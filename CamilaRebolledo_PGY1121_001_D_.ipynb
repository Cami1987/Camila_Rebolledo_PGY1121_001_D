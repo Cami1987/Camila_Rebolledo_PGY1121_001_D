{
  "nbformat": 4,
  "nbformat_minor": 0,
  "metadata": {
    "colab": {
      "provenance": [],
      "authorship_tag": "ABX9TyOwVxZufDjLRVeWQC7IdDuw",
      "include_colab_link": true
    },
    "kernelspec": {
      "name": "python3",
      "display_name": "Python 3"
    },
    "language_info": {
      "name": "python"
    }
  },
  "cells": [
    {
      "cell_type": "markdown",
      "metadata": {
        "id": "view-in-github",
        "colab_type": "text"
      },
      "source": [
        "<a href=\"https://colab.research.google.com/github/Cami1987/Camila_Rebolledo_PGY1121_001_D/blob/main/CamilaRebolledo_PGY1121_001_D_.ipynb\" target=\"_parent\"><img src=\"https://colab.research.google.com/assets/colab-badge.svg\" alt=\"Open In Colab\"/></a>"
      ]
    },
    {
      "cell_type": "code",
      "source": [
        "nombre_inmobiliaria=\"Casa Feliz\"\n",
        "pisos=10\n",
        "departamentos_por_piso=4\n",
        "departamentos_disponibles=[['A']*departamentos_por_piso for _ in range(pisos)]\n",
        "precios={'A': 3800, 'B': 3000, 'C': 2800, 'D': 3500}\n",
        "compradores = {}\n",
        "\n",
        "\n",
        "while True:\n",
        "    print(f\"\\nBienvenido a la inmobiliaria {nombre_inmobiliaria}\")\n",
        "    print(\"\\nMenú:\")\n",
        "    print(\"1. Comprar departamento\")\n",
        "    print(\"2. Mostrar departamentos disponibles\")\n",
        "    print(\"3. Ver listado de compradores\")\n",
        "    print(\"4. Mostrar ganancias totales\")\n",
        "    print(\"5. Salir\")\n",
        "\n",
        "        opcion=input(\"Seleccione una opción (1-5): \")\n",
        "\n",
        "    if opcion == '1':\n",
        "        comprar_departamento()\n",
        "    elif opcion == '2':\n",
        "        mostrar_disponibilidad()\n",
        "    elif opcion == '3':\n",
        "        mostrar_compradores()\n",
        "    elif opcion == '4':\n",
        "        mostrar_ventas_totales()\n",
        "    elif opcion == '5':\n",
        "        salir()\n",
        "        break\n",
        "    else:\n",
        "        print(\"Opción inválida. Por favor, ingrese una opción válida.\")\n",
        "\n",
        "\n",
        "def mostrar_disponibilidad():\n",
        "    print(\"\\nEstado actual de la venta de departamentos:\")\n",
        "    for piso, disponibles in enumerate(departamentos_disponibles, start=1):\n",
        "        print(f\"Piso {piso}: {disponibles}\")\n",
        "\n",
        "def comprar_departamento():\n",
        "    mostrar_disponibilidad()\n",
        "    piso=int(input(\"\\nIngrese el número de piso (1-10): \"))\n",
        "    tipo=input(\"Ingrese el tipo de departamento (A, B, C, D): \").upper()\n",
        "\n",
        "    if 1 <= piso <= pisos and tipo in precios:\n",
        "        if departamentos_disponibles[piso-1][ord(tipo) - ord('A')] == 'X':\n",
        "            print(\"Departamento no disponible. Por favor, elija otro.\")\n",
        "        else:\n",
        "            run=input(\"Ingrese el RUN del comprador (sin guiones ni puntos): \")\n",
        "            compradores[run] = (tipo, precios[tipo], piso)\n",
        "            departamentos_disponibles[piso-1][ord(tipo) - ord('A')] = 'X'\n",
        "            print(\"Operación realizada correctamente.\")\n",
        "    else:\n",
        "        print(\"Entrada inválida. Por favor, ingrese datos válidos.\")\n",
        "\n",
        "def mostrar_compradores():\n",
        "    print(\"\\nListado de compradores ordenados por RUN:\")\n",
        "    for run in sorted(compradores.keys()):\n",
        "        tipo, precio, piso = compradores[run]\n",
        "        print(f\"RUN: {run}, Tipo: {tipo}, Piso: {piso}, Precio: {precio} UF\")\n",
        "def mostrar_ventas_totales():\n",
        "    print(\"\\nVentas totales:\")\n",
        "    total_ventas=0\n",
        "    ganancias_por_tipo={'A': 0, 'B': 0, 'C': 0, 'D': 0}\n",
        "\n",
        "    for run, (tipo, precio, _) in compradores.items():\n",
        "        total_tipo = precios[tipo]\n",
        "        total_ventas += total_tipo\n",
        "        ganancias_por_tipo[tipo] += total_tipo\n",
        "\n",
        "    for tipo, ganancia in ganancias_por_tipo.items():\n",
        "        cantidad=sum(1 for (_, t, _) in compradores.values() if t == tipo)\n",
        "        print(f\"Tipo {tipo}: {precios[tipo]} UF, {cantidad} unidades, Total: {ganancia} UF\")\n",
        "\n",
        "    print(f\"TOTAL: {len(compradores)} unidades, {total_ventas} UF\")\n",
        "\n",
        "    print(\"\\nGanancias por tipo de departamento:\")\n",
        "    for tipo, ganancia in ganancias_por_tipo.items():\n",
        "        print(f\"Tipo {tipo}: {ganancia} UF\")\n"
      ],
      "metadata": {
        "id": "IiRxtWp7dJtb"
      },
      "execution_count": null,
      "outputs": []
    },
    {
      "cell_type": "markdown",
      "source": [],
      "metadata": {
        "id": "EPHPVO0FdzEG"
      }
    }
  ]
}